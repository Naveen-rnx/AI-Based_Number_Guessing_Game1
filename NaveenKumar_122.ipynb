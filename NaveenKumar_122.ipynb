{
  "nbformat": 4,
  "nbformat_minor": 0,
  "metadata": {
    "colab": {
      "provenance": []
    },
    "kernelspec": {
      "name": "python3",
      "display_name": "Python 3"
    },
    "language_info": {
      "name": "python"
    }
  },
  "cells": [
    {
      "cell_type": "code",
      "execution_count": 1,
      "metadata": {
        "colab": {
          "base_uri": "https://localhost:8080/"
        },
        "id": "ODtfsIUNUXGJ",
        "outputId": "24f59b60-73c4-4134-bc84-95cbdbc78c82"
      },
      "outputs": [
        {
          "output_type": "stream",
          "name": "stdout",
          "text": [
            "Welcome to the AI Number Guessing Game!\n",
            "AI guesses: 50\n",
            "AI's guess is too high.\n",
            "AI guesses: 25\n",
            "AI's guess is too high.\n",
            "AI guesses: 12\n",
            "AI's guess is too low.\n",
            "AI guesses: 18\n",
            "AI's guess is too high.\n",
            "AI guesses: 15\n",
            "AI's guess is too low.\n",
            "AI guesses: 16\n",
            "AI guessed the correct number 16 in 6 attempts!\n"
          ]
        }
      ],
      "source": [
        "import random\n",
        "\n",
        "def ai_guess_number(low, high):\n",
        "    \"\"\"AI uses binary search to guess the number.\"\"\"\n",
        "    return (low + high) // 2\n",
        "\n",
        "def number_guessing_game():\n",
        "    \"\"\"Main function to run the AI number guessing game.\"\"\"\n",
        "    print(\"Welcome to the AI Number Guessing Game!\")\n",
        "    low, high = 1, 100  # Range of numbers\n",
        "    number_to_guess = random.randint(low, high)  # Random number generation\n",
        "    attempts = 0  # Counter for attempts\n",
        "\n",
        "    while True:\n",
        "        ai_guess = ai_guess_number(low, high)  # AI makes a guess\n",
        "        attempts += 1\n",
        "        print(f\"AI guesses: {ai_guess}\")\n",
        "\n",
        "        if ai_guess == number_to_guess:\n",
        "            print(f\"AI guessed the correct number {ai_guess} in {attempts} attempts!\")\n",
        "            break\n",
        "        elif ai_guess < number_to_guess:\n",
        "            print(\"AI's guess is too low.\")\n",
        "            low = ai_guess + 1  # Adjust lower bound\n",
        "        else:\n",
        "            print(\"AI's guess is too high.\")\n",
        "            high = ai_guess - 1  # Adjust upper bound\n",
        "\n",
        "if __name__ == \"__main__\":\n",
        "    number_guessing_game()  # Run the game\n"
      ]
    }
  ]
}